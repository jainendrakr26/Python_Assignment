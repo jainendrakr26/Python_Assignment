{
 "cells": [
  {
   "cell_type": "markdown",
   "metadata": {},
   "source": [
    "Problem_1.1 Write a Python Program to implement your own myreduce() function which works exactly like Python's built-in function reduce()\n"
   ]
  },
  {
   "cell_type": "code",
   "execution_count": 19,
   "metadata": {},
   "outputs": [
    {
     "name": "stdout",
     "output_type": "stream",
     "text": [
      "Enter the number:10\n",
      "Output\n",
      "List of numbers are: [1, 2, 3, 4, 5, 6, 7, 8, 9, 10]\n",
      "Sum of List elements are : 55\n"
     ]
    }
   ],
   "source": [
    "number=int(input(\"Enter the number:\"))\n",
    "\n",
    "def myreduce(num):\n",
    "    num_list=list(range(1,number+1))\n",
    "    sum=0\n",
    "    for i in num_list:\n",
    "        sum+=i\n",
    "    return num_list,sum\n",
    "\n",
    "output=myreduce(number)\n",
    "\n",
    "print(\"Output\")\n",
    "print(\"List of numbers are:\",output[0])\n",
    "print(\"Sum of List elements are :\",output[1])"
   ]
  },
  {
   "cell_type": "markdown",
   "metadata": {},
   "source": [
    "1.2 Write a Python program to implement your own myfilter() function which works exactly like Python's built-in function filter()"
   ]
  },
  {
   "cell_type": "code",
   "execution_count": 13,
   "metadata": {},
   "outputs": [
    {
     "name": "stdout",
     "output_type": "stream",
     "text": [
      "Enter the number:10\n",
      "3ist the numbers: [1, 2, 3, 4, 5, 6, 7, 8, 9, 10]\n",
      "List the even numbers [2, 4, 6, 8, 10]\n",
      "List the odd numbers [1, 3, 5, 7, 9]\n"
     ]
    }
   ],
   "source": [
    "number=int(input(\"Enter the number:\"))\n",
    "\n",
    "num_list=list(range(1,number+1))\n",
    "\n",
    "def myfilter(num_list):\n",
    "    num_even=[]\n",
    "    num_odd=[]\n",
    "    for i in num_list:\n",
    "        if(i%2==0):\n",
    "            num_even.append(i)\n",
    "        else:\n",
    "            num_odd.append(i)\n",
    "                \n",
    "    return num_even,num_odd\n",
    "\n",
    "output=myfilter(num_list)\n",
    "\n",
    "print(\"List the numbers:\",num_list)\n",
    "print(\"List the even numbers\",output[0])\n",
    "print(\"List the odd numbers\",output[1])\n",
    "    "
   ]
  },
  {
   "cell_type": "markdown",
   "metadata": {},
   "source": [
    "2.Implement List comprehensions to produce the following lists."
   ]
  },
  {
   "cell_type": "code",
   "execution_count": 23,
   "metadata": {},
   "outputs": [
    {
     "name": "stdout",
     "output_type": "stream",
     "text": [
      "['x', 'xx', 'xxx', 'xxxx', 'y', 'yy', 'yyy', 'yyyy', 'z', 'zz', 'zzz', 'zzzz']\n",
      "['x', 'y', 'z', 'xx', 'yy', 'zz', 'xxx', 'yyy', 'zzz', 'xxxx', 'yyyy', 'zzzz']\n",
      "[[2], [3], [4], [3], [4], [5], [4], [5], [6]]\n",
      "[[2, 3, 4, 5], [3, 4, 5, 6], [4, 5, 6, 7], [5, 6, 7, 8]]\n",
      "[(1, 1), (2, 1), (3, 1), (1, 2), (2, 2), (3, 2), (1, 3), (2, 3), (3, 3)]\n"
     ]
    }
   ],
   "source": [
    "word_1=list('xyz')\n",
    "\n",
    "output_1=[x*i for x in word_1 for i in range(1,5)]\n",
    "print(output_1)\n",
    "\n",
    "output_2=[x*i for i in range(1,5) for x in word_1]\n",
    "print(output_2)\n",
    "\n",
    "number_1=[2,3,4]\n",
    "output_3=[[x+n] for x in number for n in range(0,3)]\n",
    "print(output_3)\n",
    "\n",
    "number_2=[2,3,4,5]\n",
    "output_4=[[x+n for n in range(0,4)] for x in number_2 ]\n",
    "print(output_4)\n",
    "\n",
    "number_3=[1,2,3]\n",
    "output_5= [(b,a) for a in number_3 for b in number_3]\n",
    "print(output_5)"
   ]
  },
  {
   "cell_type": "code",
   "execution_count": null,
   "metadata": {},
   "outputs": [],
   "source": []
  }
 ],
 "metadata": {
  "kernelspec": {
   "display_name": "Python 3",
   "language": "python",
   "name": "python3"
  },
  "language_info": {
   "codemirror_mode": {
    "name": "ipython",
    "version": 3
   },
   "file_extension": ".py",
   "mimetype": "text/x-python",
   "name": "python",
   "nbconvert_exporter": "python",
   "pygments_lexer": "ipython3",
   "version": "3.7.4"
  }
 },
 "nbformat": 4,
 "nbformat_minor": 2
}
